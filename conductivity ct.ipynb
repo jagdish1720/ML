{
 "cells": [
  {
   "cell_type": "code",
   "execution_count": 1,
   "metadata": {},
   "outputs": [
    {
     "name": "stderr",
     "output_type": "stream",
     "text": [
      "C:\\Users\\sreekar chidurala\\Anaconda3\\lib\\site-packages\\ipykernel\\parentpoller.py:116: UserWarning: Parent poll failed.  If the frontend dies,\n",
      "                the kernel may be left running.  Please let us know\n",
      "                about your system (bitness, Python, etc.) at\n",
      "                ipython-dev@scipy.org\n",
      "  ipython-dev@scipy.org\"\"\")\n"
     ]
    }
   ],
   "source": [
    "import numpy as np\n",
    "import pandas as pd\n",
    "from scipy.stats import zscore"
   ]
  },
  {
   "cell_type": "code",
   "execution_count": 2,
   "metadata": {},
   "outputs": [],
   "source": [
    "from sklearn.metrics import accuracy_score\n",
    "from sklearn.metrics import accuracy_score"
   ]
  },
  {
   "cell_type": "code",
   "execution_count": 5,
   "metadata": {},
   "outputs": [],
   "source": [
    "df=pd.read_csv(\"train.csv\")"
   ]
  },
  {
   "cell_type": "code",
   "execution_count": 6,
   "metadata": {},
   "outputs": [
    {
     "data": {
      "text/html": [
       "<div>\n",
       "<style scoped>\n",
       "    .dataframe tbody tr th:only-of-type {\n",
       "        vertical-align: middle;\n",
       "    }\n",
       "\n",
       "    .dataframe tbody tr th {\n",
       "        vertical-align: top;\n",
       "    }\n",
       "\n",
       "    .dataframe thead th {\n",
       "        text-align: right;\n",
       "    }\n",
       "</style>\n",
       "<table border=\"1\" class=\"dataframe\">\n",
       "  <thead>\n",
       "    <tr style=\"text-align: right;\">\n",
       "      <th></th>\n",
       "      <th>number_of_elements</th>\n",
       "      <th>mean_atomic_mass</th>\n",
       "      <th>wtd_mean_atomic_mass</th>\n",
       "      <th>gmean_atomic_mass</th>\n",
       "      <th>wtd_gmean_atomic_mass</th>\n",
       "      <th>entropy_atomic_mass</th>\n",
       "      <th>wtd_entropy_atomic_mass</th>\n",
       "      <th>range_atomic_mass</th>\n",
       "      <th>wtd_range_atomic_mass</th>\n",
       "      <th>std_atomic_mass</th>\n",
       "      <th>...</th>\n",
       "      <th>wtd_mean_Valence</th>\n",
       "      <th>gmean_Valence</th>\n",
       "      <th>wtd_gmean_Valence</th>\n",
       "      <th>entropy_Valence</th>\n",
       "      <th>wtd_entropy_Valence</th>\n",
       "      <th>range_Valence</th>\n",
       "      <th>wtd_range_Valence</th>\n",
       "      <th>std_Valence</th>\n",
       "      <th>wtd_std_Valence</th>\n",
       "      <th>critical_temp</th>\n",
       "    </tr>\n",
       "  </thead>\n",
       "  <tbody>\n",
       "    <tr>\n",
       "      <th>0</th>\n",
       "      <td>4</td>\n",
       "      <td>88.944468</td>\n",
       "      <td>57.862692</td>\n",
       "      <td>66.361592</td>\n",
       "      <td>36.116612</td>\n",
       "      <td>1.181795</td>\n",
       "      <td>1.062396</td>\n",
       "      <td>122.90607</td>\n",
       "      <td>31.794921</td>\n",
       "      <td>51.968828</td>\n",
       "      <td>...</td>\n",
       "      <td>2.257143</td>\n",
       "      <td>2.213364</td>\n",
       "      <td>2.219783</td>\n",
       "      <td>1.368922</td>\n",
       "      <td>1.066221</td>\n",
       "      <td>1</td>\n",
       "      <td>1.085714</td>\n",
       "      <td>0.433013</td>\n",
       "      <td>0.437059</td>\n",
       "      <td>29.0</td>\n",
       "    </tr>\n",
       "    <tr>\n",
       "      <th>1</th>\n",
       "      <td>5</td>\n",
       "      <td>92.729214</td>\n",
       "      <td>58.518416</td>\n",
       "      <td>73.132787</td>\n",
       "      <td>36.396602</td>\n",
       "      <td>1.449309</td>\n",
       "      <td>1.057755</td>\n",
       "      <td>122.90607</td>\n",
       "      <td>36.161939</td>\n",
       "      <td>47.094633</td>\n",
       "      <td>...</td>\n",
       "      <td>2.257143</td>\n",
       "      <td>1.888175</td>\n",
       "      <td>2.210679</td>\n",
       "      <td>1.557113</td>\n",
       "      <td>1.047221</td>\n",
       "      <td>2</td>\n",
       "      <td>1.128571</td>\n",
       "      <td>0.632456</td>\n",
       "      <td>0.468606</td>\n",
       "      <td>26.0</td>\n",
       "    </tr>\n",
       "    <tr>\n",
       "      <th>2</th>\n",
       "      <td>4</td>\n",
       "      <td>88.944468</td>\n",
       "      <td>57.885242</td>\n",
       "      <td>66.361592</td>\n",
       "      <td>36.122509</td>\n",
       "      <td>1.181795</td>\n",
       "      <td>0.975980</td>\n",
       "      <td>122.90607</td>\n",
       "      <td>35.741099</td>\n",
       "      <td>51.968828</td>\n",
       "      <td>...</td>\n",
       "      <td>2.271429</td>\n",
       "      <td>2.213364</td>\n",
       "      <td>2.232679</td>\n",
       "      <td>1.368922</td>\n",
       "      <td>1.029175</td>\n",
       "      <td>1</td>\n",
       "      <td>1.114286</td>\n",
       "      <td>0.433013</td>\n",
       "      <td>0.444697</td>\n",
       "      <td>19.0</td>\n",
       "    </tr>\n",
       "    <tr>\n",
       "      <th>3</th>\n",
       "      <td>4</td>\n",
       "      <td>88.944468</td>\n",
       "      <td>57.873967</td>\n",
       "      <td>66.361592</td>\n",
       "      <td>36.119560</td>\n",
       "      <td>1.181795</td>\n",
       "      <td>1.022291</td>\n",
       "      <td>122.90607</td>\n",
       "      <td>33.768010</td>\n",
       "      <td>51.968828</td>\n",
       "      <td>...</td>\n",
       "      <td>2.264286</td>\n",
       "      <td>2.213364</td>\n",
       "      <td>2.226222</td>\n",
       "      <td>1.368922</td>\n",
       "      <td>1.048834</td>\n",
       "      <td>1</td>\n",
       "      <td>1.100000</td>\n",
       "      <td>0.433013</td>\n",
       "      <td>0.440952</td>\n",
       "      <td>22.0</td>\n",
       "    </tr>\n",
       "    <tr>\n",
       "      <th>4</th>\n",
       "      <td>4</td>\n",
       "      <td>88.944468</td>\n",
       "      <td>57.840143</td>\n",
       "      <td>66.361592</td>\n",
       "      <td>36.110716</td>\n",
       "      <td>1.181795</td>\n",
       "      <td>1.129224</td>\n",
       "      <td>122.90607</td>\n",
       "      <td>27.848743</td>\n",
       "      <td>51.968828</td>\n",
       "      <td>...</td>\n",
       "      <td>2.242857</td>\n",
       "      <td>2.213364</td>\n",
       "      <td>2.206963</td>\n",
       "      <td>1.368922</td>\n",
       "      <td>1.096052</td>\n",
       "      <td>1</td>\n",
       "      <td>1.057143</td>\n",
       "      <td>0.433013</td>\n",
       "      <td>0.428809</td>\n",
       "      <td>23.0</td>\n",
       "    </tr>\n",
       "  </tbody>\n",
       "</table>\n",
       "<p>5 rows × 82 columns</p>\n",
       "</div>"
      ],
      "text/plain": [
       "   number_of_elements  mean_atomic_mass  wtd_mean_atomic_mass  \\\n",
       "0                   4         88.944468             57.862692   \n",
       "1                   5         92.729214             58.518416   \n",
       "2                   4         88.944468             57.885242   \n",
       "3                   4         88.944468             57.873967   \n",
       "4                   4         88.944468             57.840143   \n",
       "\n",
       "   gmean_atomic_mass  wtd_gmean_atomic_mass  entropy_atomic_mass  \\\n",
       "0          66.361592              36.116612             1.181795   \n",
       "1          73.132787              36.396602             1.449309   \n",
       "2          66.361592              36.122509             1.181795   \n",
       "3          66.361592              36.119560             1.181795   \n",
       "4          66.361592              36.110716             1.181795   \n",
       "\n",
       "   wtd_entropy_atomic_mass  range_atomic_mass  wtd_range_atomic_mass  \\\n",
       "0                 1.062396          122.90607              31.794921   \n",
       "1                 1.057755          122.90607              36.161939   \n",
       "2                 0.975980          122.90607              35.741099   \n",
       "3                 1.022291          122.90607              33.768010   \n",
       "4                 1.129224          122.90607              27.848743   \n",
       "\n",
       "   std_atomic_mass      ...        wtd_mean_Valence  gmean_Valence  \\\n",
       "0        51.968828      ...                2.257143       2.213364   \n",
       "1        47.094633      ...                2.257143       1.888175   \n",
       "2        51.968828      ...                2.271429       2.213364   \n",
       "3        51.968828      ...                2.264286       2.213364   \n",
       "4        51.968828      ...                2.242857       2.213364   \n",
       "\n",
       "   wtd_gmean_Valence  entropy_Valence  wtd_entropy_Valence  range_Valence  \\\n",
       "0           2.219783         1.368922             1.066221              1   \n",
       "1           2.210679         1.557113             1.047221              2   \n",
       "2           2.232679         1.368922             1.029175              1   \n",
       "3           2.226222         1.368922             1.048834              1   \n",
       "4           2.206963         1.368922             1.096052              1   \n",
       "\n",
       "   wtd_range_Valence  std_Valence  wtd_std_Valence  critical_temp  \n",
       "0           1.085714     0.433013         0.437059           29.0  \n",
       "1           1.128571     0.632456         0.468606           26.0  \n",
       "2           1.114286     0.433013         0.444697           19.0  \n",
       "3           1.100000     0.433013         0.440952           22.0  \n",
       "4           1.057143     0.433013         0.428809           23.0  \n",
       "\n",
       "[5 rows x 82 columns]"
      ]
     },
     "execution_count": 6,
     "metadata": {},
     "output_type": "execute_result"
    }
   ],
   "source": [
    "df.head()"
   ]
  },
  {
   "cell_type": "code",
   "execution_count": 16,
   "metadata": {},
   "outputs": [],
   "source": [
    "df_x= df.iloc[:,1:81]"
   ]
  },
  {
   "cell_type": "code",
   "execution_count": 11,
   "metadata": {},
   "outputs": [],
   "source": [
    "#df_x.head()"
   ]
  },
  {
   "cell_type": "code",
   "execution_count": 20,
   "metadata": {},
   "outputs": [
    {
     "data": {
      "text/plain": [
       "0    29.0\n",
       "1    26.0\n",
       "2    19.0\n",
       "3    22.0\n",
       "4    23.0\n",
       "Name: critical_temp, dtype: float64"
      ]
     },
     "execution_count": 20,
     "metadata": {},
     "output_type": "execute_result"
    }
   ],
   "source": [
    "df_y=df.iloc[:,81]\n",
    "df_y.head()"
   ]
  },
  {
   "cell_type": "code",
   "execution_count": 21,
   "metadata": {},
   "outputs": [
    {
     "data": {
      "text/html": [
       "<div>\n",
       "<style scoped>\n",
       "    .dataframe tbody tr th:only-of-type {\n",
       "        vertical-align: middle;\n",
       "    }\n",
       "\n",
       "    .dataframe tbody tr th {\n",
       "        vertical-align: top;\n",
       "    }\n",
       "\n",
       "    .dataframe thead th {\n",
       "        text-align: right;\n",
       "    }\n",
       "</style>\n",
       "<table border=\"1\" class=\"dataframe\">\n",
       "  <thead>\n",
       "    <tr style=\"text-align: right;\">\n",
       "      <th></th>\n",
       "      <th>mean_atomic_mass</th>\n",
       "      <th>wtd_mean_atomic_mass</th>\n",
       "      <th>gmean_atomic_mass</th>\n",
       "      <th>wtd_gmean_atomic_mass</th>\n",
       "      <th>entropy_atomic_mass</th>\n",
       "      <th>wtd_entropy_atomic_mass</th>\n",
       "      <th>range_atomic_mass</th>\n",
       "      <th>wtd_range_atomic_mass</th>\n",
       "      <th>std_atomic_mass</th>\n",
       "      <th>wtd_std_atomic_mass</th>\n",
       "      <th>...</th>\n",
       "      <th>mean_Valence</th>\n",
       "      <th>wtd_mean_Valence</th>\n",
       "      <th>gmean_Valence</th>\n",
       "      <th>wtd_gmean_Valence</th>\n",
       "      <th>entropy_Valence</th>\n",
       "      <th>wtd_entropy_Valence</th>\n",
       "      <th>range_Valence</th>\n",
       "      <th>wtd_range_Valence</th>\n",
       "      <th>std_Valence</th>\n",
       "      <th>wtd_std_Valence</th>\n",
       "    </tr>\n",
       "  </thead>\n",
       "  <tbody>\n",
       "    <tr>\n",
       "      <th>0</th>\n",
       "      <td>0.046733</td>\n",
       "      <td>-0.451651</td>\n",
       "      <td>-0.158850</td>\n",
       "      <td>-0.611819</td>\n",
       "      <td>0.044358</td>\n",
       "      <td>-0.003707</td>\n",
       "      <td>0.133725</td>\n",
       "      <td>-0.053039</td>\n",
       "      <td>0.378186</td>\n",
       "      <td>0.609240</td>\n",
       "      <td>...</td>\n",
       "      <td>-0.907755</td>\n",
       "      <td>-0.752156</td>\n",
       "      <td>-0.805912</td>\n",
       "      <td>-0.711705</td>\n",
       "      <td>0.186292</td>\n",
       "      <td>0.035183</td>\n",
       "      <td>-0.837959</td>\n",
       "      <td>-0.406166</td>\n",
       "      <td>-0.838372</td>\n",
       "      <td>-0.520070</td>\n",
       "    </tr>\n",
       "    <tr>\n",
       "      <th>1</th>\n",
       "      <td>0.174269</td>\n",
       "      <td>-0.432071</td>\n",
       "      <td>0.059368</td>\n",
       "      <td>-0.604180</td>\n",
       "      <td>0.777430</td>\n",
       "      <td>-0.015267</td>\n",
       "      <td>0.133725</td>\n",
       "      <td>0.108900</td>\n",
       "      <td>0.134901</td>\n",
       "      <td>0.627122</td>\n",
       "      <td>...</td>\n",
       "      <td>-1.147084</td>\n",
       "      <td>-0.752156</td>\n",
       "      <td>-1.116731</td>\n",
       "      <td>-0.719454</td>\n",
       "      <td>0.664971</td>\n",
       "      <td>-0.014779</td>\n",
       "      <td>-0.033011</td>\n",
       "      <td>-0.362352</td>\n",
       "      <td>-0.426866</td>\n",
       "      <td>-0.450821</td>\n",
       "    </tr>\n",
       "    <tr>\n",
       "      <th>2</th>\n",
       "      <td>0.046733</td>\n",
       "      <td>-0.450978</td>\n",
       "      <td>-0.158850</td>\n",
       "      <td>-0.611658</td>\n",
       "      <td>0.044358</td>\n",
       "      <td>-0.218984</td>\n",
       "      <td>0.133725</td>\n",
       "      <td>0.093294</td>\n",
       "      <td>0.378186</td>\n",
       "      <td>0.610928</td>\n",
       "      <td>...</td>\n",
       "      <td>-0.907755</td>\n",
       "      <td>-0.740164</td>\n",
       "      <td>-0.805912</td>\n",
       "      <td>-0.700728</td>\n",
       "      <td>0.186292</td>\n",
       "      <td>-0.062235</td>\n",
       "      <td>-0.837959</td>\n",
       "      <td>-0.376957</td>\n",
       "      <td>-0.838372</td>\n",
       "      <td>-0.503304</td>\n",
       "    </tr>\n",
       "    <tr>\n",
       "      <th>3</th>\n",
       "      <td>0.046733</td>\n",
       "      <td>-0.451314</td>\n",
       "      <td>-0.158850</td>\n",
       "      <td>-0.611739</td>\n",
       "      <td>0.044358</td>\n",
       "      <td>-0.103615</td>\n",
       "      <td>0.133725</td>\n",
       "      <td>0.020128</td>\n",
       "      <td>0.378186</td>\n",
       "      <td>0.610084</td>\n",
       "      <td>...</td>\n",
       "      <td>-0.907755</td>\n",
       "      <td>-0.746160</td>\n",
       "      <td>-0.805912</td>\n",
       "      <td>-0.706224</td>\n",
       "      <td>0.186292</td>\n",
       "      <td>-0.010538</td>\n",
       "      <td>-0.837959</td>\n",
       "      <td>-0.391562</td>\n",
       "      <td>-0.838372</td>\n",
       "      <td>-0.511524</td>\n",
       "    </tr>\n",
       "    <tr>\n",
       "      <th>4</th>\n",
       "      <td>0.046733</td>\n",
       "      <td>-0.452324</td>\n",
       "      <td>-0.158850</td>\n",
       "      <td>-0.611980</td>\n",
       "      <td>0.044358</td>\n",
       "      <td>0.162775</td>\n",
       "      <td>0.133725</td>\n",
       "      <td>-0.199372</td>\n",
       "      <td>0.378186</td>\n",
       "      <td>0.607550</td>\n",
       "      <td>...</td>\n",
       "      <td>-0.907755</td>\n",
       "      <td>-0.764149</td>\n",
       "      <td>-0.805912</td>\n",
       "      <td>-0.722618</td>\n",
       "      <td>0.186292</td>\n",
       "      <td>0.113627</td>\n",
       "      <td>-0.837959</td>\n",
       "      <td>-0.435376</td>\n",
       "      <td>-0.838372</td>\n",
       "      <td>-0.538178</td>\n",
       "    </tr>\n",
       "  </tbody>\n",
       "</table>\n",
       "<p>5 rows × 80 columns</p>\n",
       "</div>"
      ],
      "text/plain": [
       "   mean_atomic_mass  wtd_mean_atomic_mass  gmean_atomic_mass  \\\n",
       "0          0.046733             -0.451651          -0.158850   \n",
       "1          0.174269             -0.432071           0.059368   \n",
       "2          0.046733             -0.450978          -0.158850   \n",
       "3          0.046733             -0.451314          -0.158850   \n",
       "4          0.046733             -0.452324          -0.158850   \n",
       "\n",
       "   wtd_gmean_atomic_mass  entropy_atomic_mass  wtd_entropy_atomic_mass  \\\n",
       "0              -0.611819             0.044358                -0.003707   \n",
       "1              -0.604180             0.777430                -0.015267   \n",
       "2              -0.611658             0.044358                -0.218984   \n",
       "3              -0.611739             0.044358                -0.103615   \n",
       "4              -0.611980             0.044358                 0.162775   \n",
       "\n",
       "   range_atomic_mass  wtd_range_atomic_mass  std_atomic_mass  \\\n",
       "0           0.133725              -0.053039         0.378186   \n",
       "1           0.133725               0.108900         0.134901   \n",
       "2           0.133725               0.093294         0.378186   \n",
       "3           0.133725               0.020128         0.378186   \n",
       "4           0.133725              -0.199372         0.378186   \n",
       "\n",
       "   wtd_std_atomic_mass       ...         mean_Valence  wtd_mean_Valence  \\\n",
       "0             0.609240       ...            -0.907755         -0.752156   \n",
       "1             0.627122       ...            -1.147084         -0.752156   \n",
       "2             0.610928       ...            -0.907755         -0.740164   \n",
       "3             0.610084       ...            -0.907755         -0.746160   \n",
       "4             0.607550       ...            -0.907755         -0.764149   \n",
       "\n",
       "   gmean_Valence  wtd_gmean_Valence  entropy_Valence  wtd_entropy_Valence  \\\n",
       "0      -0.805912          -0.711705         0.186292             0.035183   \n",
       "1      -1.116731          -0.719454         0.664971            -0.014779   \n",
       "2      -0.805912          -0.700728         0.186292            -0.062235   \n",
       "3      -0.805912          -0.706224         0.186292            -0.010538   \n",
       "4      -0.805912          -0.722618         0.186292             0.113627   \n",
       "\n",
       "   range_Valence  wtd_range_Valence  std_Valence  wtd_std_Valence  \n",
       "0      -0.837959          -0.406166    -0.838372        -0.520070  \n",
       "1      -0.033011          -0.362352    -0.426866        -0.450821  \n",
       "2      -0.837959          -0.376957    -0.838372        -0.503304  \n",
       "3      -0.837959          -0.391562    -0.838372        -0.511524  \n",
       "4      -0.837959          -0.435376    -0.838372        -0.538178  \n",
       "\n",
       "[5 rows x 80 columns]"
      ]
     },
     "execution_count": 21,
     "metadata": {},
     "output_type": "execute_result"
    }
   ],
   "source": [
    "z_data=df_x.apply(zscore)\n",
    "z_data.head()"
   ]
  },
  {
   "cell_type": "code",
   "execution_count": 24,
   "metadata": {},
   "outputs": [],
   "source": [
    "from sklearn.decomposition import PCA\n",
    "pca = PCA(n_components=80, svd_solver='full')"
   ]
  },
  {
   "cell_type": "code",
   "execution_count": 25,
   "metadata": {},
   "outputs": [
    {
     "name": "stdout",
     "output_type": "stream",
     "text": [
      "[3.84706935e-01 1.05281725e-01 9.58056008e-02 7.97774589e-02\n",
      " 5.95487920e-02 3.82154175e-02 3.65405497e-02 3.14461150e-02\n",
      " 2.38387353e-02 1.99227219e-02 1.85110174e-02 1.47625326e-02\n",
      " 1.19158748e-02 1.01084468e-02 9.89814021e-03 7.87721964e-03\n",
      " 7.27770601e-03 5.45869804e-03 4.88350741e-03 3.84527467e-03\n",
      " 2.91224958e-03 2.83273013e-03 2.59062836e-03 2.09529839e-03\n",
      " 1.98098435e-03 1.87138844e-03 1.63759302e-03 1.44036167e-03\n",
      " 1.27819037e-03 1.16374617e-03 1.03677387e-03 9.68704355e-04\n",
      " 9.23515461e-04 7.26690286e-04 6.85359264e-04 6.14580351e-04\n",
      " 5.73355360e-04 4.65423972e-04 4.30656122e-04 4.05101442e-04\n",
      " 3.29259542e-04 3.06447052e-04 2.41915701e-04 2.26410659e-04\n",
      " 2.23286194e-04 2.13843983e-04 1.93807266e-04 1.87035030e-04\n",
      " 1.80248648e-04 1.65372907e-04 1.56664592e-04 1.31746481e-04\n",
      " 1.24410607e-04 1.19371546e-04 1.07357612e-04 9.56692639e-05\n",
      " 8.96944584e-05 8.20989233e-05 7.76570226e-05 7.25465535e-05\n",
      " 5.77587565e-05 4.94107468e-05 4.46738194e-05 4.00485438e-05\n",
      " 3.63127651e-05 3.26094560e-05 2.84976204e-05 2.45816643e-05\n",
      " 2.09713592e-05 1.83540025e-05 1.74951075e-05 1.62699373e-05\n",
      " 9.35415748e-06 7.71761948e-06 5.69501202e-06 4.15917571e-06\n",
      " 2.39024055e-06 1.51110576e-06 9.25567449e-07 6.20635596e-07]\n"
     ]
    }
   ],
   "source": [
    "pca.fit(z_data)\n",
    "print(pca.explained_variance_ratio_) "
   ]
  },
  {
   "cell_type": "code",
   "execution_count": 26,
   "metadata": {},
   "outputs": [
    {
     "data": {
      "text/plain": [
       "array([0.38470693, 0.48998866, 0.58579426, 0.66557172, 0.72512051,\n",
       "       0.76333593, 0.79987648, 0.83132259, 0.85516133, 0.87508405,\n",
       "       0.89359507, 0.9083576 , 0.92027347, 0.93038192, 0.94028006,\n",
       "       0.94815728, 0.95543499, 0.96089369, 0.96577719, 0.96962247,\n",
       "       0.97253472, 0.97536745, 0.97795808, 0.98005337, 0.98203436,\n",
       "       0.98390575, 0.98554334, 0.9869837 , 0.98826189, 0.98942564,\n",
       "       0.99046241, 0.99143112, 0.99235463, 0.99308132, 0.99376668,\n",
       "       0.99438126, 0.99495462, 0.99542004, 0.9958507 , 0.9962558 ,\n",
       "       0.99658506, 0.99689151, 0.99713342, 0.99735983, 0.99758312,\n",
       "       0.99779696, 0.99799077, 0.9981778 , 0.99835805, 0.99852343,\n",
       "       0.99868009, 0.99881184, 0.99893625, 0.99905562, 0.99916298,\n",
       "       0.99925865, 0.99934834, 0.99943044, 0.9995081 , 0.99958064,\n",
       "       0.9996384 , 0.99968781, 0.99973249, 0.99977253, 0.99980885,\n",
       "       0.99984146, 0.99986995, 0.99989454, 0.99991551, 0.99993386,\n",
       "       0.99995136, 0.99996763, 0.99997698, 0.9999847 , 0.99999039,\n",
       "       0.99999455, 0.99999694, 0.99999845, 0.99999938, 1.        ])"
      ]
     },
     "execution_count": 26,
     "metadata": {},
     "output_type": "execute_result"
    }
   ],
   "source": [
    "pca.explained_variance_ratio_.cumsum()"
   ]
  },
  {
   "cell_type": "code",
   "execution_count": 33,
   "metadata": {},
   "outputs": [
    {
     "data": {
      "text/plain": [
       "array([[-3.74338612e+00,  6.71759869e-01,  3.01073363e+00, ...,\n",
       "        -2.20656609e-01, -3.96118692e-01,  2.00709639e-01],\n",
       "       [-4.52100723e+00, -3.80770362e-01,  1.65884403e+00, ...,\n",
       "         2.21044667e-01,  4.20903270e-01, -1.13906596e+00],\n",
       "       [-3.56566468e+00,  7.31438688e-01,  3.10237014e+00, ...,\n",
       "         7.91462329e-03, -5.05746907e-01,  1.62327922e-01],\n",
       "       ...,\n",
       "       [ 1.03770537e+01, -9.65676086e-01,  1.57343121e+00, ...,\n",
       "         5.91913545e-02, -7.19095818e-01, -3.68826320e-01],\n",
       "       [ 9.66384871e+00, -1.02065434e+00,  1.20468836e+00, ...,\n",
       "        -1.61591760e+00,  1.46884525e-01, -6.65790072e-02],\n",
       "       [ 3.83682174e+00,  1.54974238e+00, -1.86263347e+00, ...,\n",
       "         3.02680894e-01,  1.64970074e-01,  1.04493533e-01]])"
      ]
     },
     "execution_count": 33,
     "metadata": {},
     "output_type": "execute_result"
    }
   ],
   "source": [
    "pca_data=pca.fit_transform(z_data)\n",
    "pca_data\n"
   ]
  },
  {
   "cell_type": "code",
   "execution_count": 34,
   "metadata": {},
   "outputs": [
    {
     "data": {
      "text/plain": [
       "array([[-3.74338612e+00,  6.71760847e-01,  3.01073337e+00, ...,\n",
       "        -2.20709330e-01, -3.96025446e-01,  2.00876511e-01],\n",
       "       [-4.52100723e+00, -3.80769996e-01,  1.65884362e+00, ...,\n",
       "         2.21064787e-01,  4.20819610e-01, -1.13883206e+00],\n",
       "       [-3.56566468e+00,  7.31439653e-01,  3.10236978e+00, ...,\n",
       "         7.87586389e-03, -5.05659693e-01,  1.62521676e-01],\n",
       "       ...,\n",
       "       [ 1.03770537e+01, -9.65678056e-01,  1.57343300e+00, ...,\n",
       "         5.92714289e-02, -7.19028572e-01, -3.69339236e-01],\n",
       "       [ 9.66384871e+00, -1.02065662e+00,  1.20468999e+00, ...,\n",
       "        -1.61581618e+00,  1.46881566e-01, -6.71236709e-02],\n",
       "       [ 3.83682174e+00,  1.54974426e+00, -1.86263162e+00, ...,\n",
       "         3.02520439e-01,  1.65289520e-01,  1.04779509e-01]])"
      ]
     },
     "execution_count": 34,
     "metadata": {},
     "output_type": "execute_result"
    }
   ],
   "source": [
    "from sklearn.decomposition import PCA\n",
    "pca = PCA(n_components=10)\n",
    "principalComponents = pca.fit_transform(z_data)\n",
    "principalComponents"
   ]
  },
  {
   "cell_type": "code",
   "execution_count": null,
   "metadata": {},
   "outputs": [],
   "source": [
    "##regression"
   ]
  },
  {
   "cell_type": "code",
   "execution_count": 35,
   "metadata": {},
   "outputs": [],
   "source": [
    "features=z_data\n",
    "\n",
    "\n",
    "label = np.array(df[\"critical_temp\"])"
   ]
  },
  {
   "cell_type": "code",
   "execution_count": 36,
   "metadata": {},
   "outputs": [],
   "source": [
    "from sklearn.model_selection import train_test_split\n",
    "\n",
    "X_train, X_test, y_train, y_test = train_test_split(features, label, test_size=0.2, random_state=0)"
   ]
  },
  {
   "cell_type": "code",
   "execution_count": 52,
   "metadata": {},
   "outputs": [
    {
     "data": {
      "text/plain": [
       "(17010,)"
      ]
     },
     "execution_count": 52,
     "metadata": {},
     "output_type": "execute_result"
    }
   ],
   "source": [
    "y_train.shape"
   ]
  },
  {
   "cell_type": "code",
   "execution_count": 49,
   "metadata": {},
   "outputs": [
    {
     "data": {
      "text/plain": [
       "17010"
      ]
     },
     "execution_count": 49,
     "metadata": {},
     "output_type": "execute_result"
    }
   ],
   "source": [
    "len(predicted_labels)"
   ]
  },
  {
   "cell_type": "code",
   "execution_count": 39,
   "metadata": {},
   "outputs": [],
   "source": [
    "from sklearn.tree import DecisionTreeRegressor"
   ]
  },
  {
   "cell_type": "code",
   "execution_count": 111,
   "metadata": {},
   "outputs": [
    {
     "data": {
      "text/plain": [
       "array([ 3.4625    , 79.        , 14.73833333, ...,  3.97      ,\n",
       "        1.53      , 85.55252326])"
      ]
     },
     "execution_count": 111,
     "metadata": {},
     "output_type": "execute_result"
    }
   ],
   "source": [
    "DTClassifier= DecisionTreeRegressor (max_depth=35, min_samples_split =2)\n",
    "DTClassifier.fit(X_train,y_train)\n",
    "predicted_labels = DTClassifier.predict(X_train)\n",
    "predicted_labels "
   ]
  },
  {
   "cell_type": "code",
   "execution_count": 112,
   "metadata": {},
   "outputs": [
    {
     "data": {
      "text/plain": [
       "17.42845516109031"
      ]
     },
     "execution_count": 112,
     "metadata": {},
     "output_type": "execute_result"
    }
   ],
   "source": [
    "from sklearn.metrics import mean_squared_error\n",
    "mean_squared_error(y_train,predicted_labels)"
   ]
  },
  {
   "cell_type": "code",
   "execution_count": 103,
   "metadata": {},
   "outputs": [
    {
     "data": {
      "text/plain": [
       "array([24.43166667, 26.5       , 28.16666667, ...,  1.98      ,\n",
       "        1.84      , 12.1       ])"
      ]
     },
     "execution_count": 103,
     "metadata": {},
     "output_type": "execute_result"
    }
   ],
   "source": [
    "#for whole data\n",
    "DTClassifier= DecisionTreeRegressor (max_depth=50, min_samples_split =2)\n",
    "DTClassifier.fit(z_data,df_y)\n",
    "predicted_labels = DTClassifier.predict(z_data)\n",
    "predicted_labels "
   ]
  },
  {
   "cell_type": "code",
   "execution_count": 104,
   "metadata": {},
   "outputs": [
    {
     "data": {
      "text/plain": [
       "18.514249538204826"
      ]
     },
     "execution_count": 104,
     "metadata": {},
     "output_type": "execute_result"
    }
   ],
   "source": [
    "from sklearn.metrics import mean_squared_error\n",
    "mean_squared_error(df_y,predicted_labels)"
   ]
  },
  {
   "cell_type": "code",
   "execution_count": null,
   "metadata": {},
   "outputs": [],
   "source": [
    "#using pca"
   ]
  },
  {
   "cell_type": "code",
   "execution_count": 96,
   "metadata": {},
   "outputs": [
    {
     "data": {
      "text/plain": [
       "array([[-3.74338612e+00,  6.71760431e-01,  3.01073345e+00, ...,\n",
       "        -2.27144204e-01, -1.41944551e-01, -3.27968128e-01],\n",
       "       [-4.52100723e+00, -3.80770571e-01,  1.65884412e+00, ...,\n",
       "        -4.46858833e-01,  3.94770304e-01, -4.07367524e-04],\n",
       "       [-3.56566468e+00,  7.31439217e-01,  3.10236995e+00, ...,\n",
       "        -1.41466271e-01, -1.21106286e-01, -3.46890200e-01],\n",
       "       ...,\n",
       "       [ 1.03770537e+01, -9.65676720e-01,  1.57343167e+00, ...,\n",
       "        -5.96984879e-01, -2.63465342e-02,  9.47206360e-01],\n",
       "       [ 9.66384871e+00, -1.02065521e+00,  1.20468889e+00, ...,\n",
       "        -7.23367912e-01, -2.88075576e-02,  7.25213684e-01],\n",
       "       [ 3.83682173e+00,  1.54974309e+00, -1.86263343e+00, ...,\n",
       "         1.50642691e+00, -4.27098708e-01, -3.80936087e-01]])"
      ]
     },
     "execution_count": 96,
     "metadata": {},
     "output_type": "execute_result"
    }
   ],
   "source": [
    "from sklearn.decomposition import PCA\n",
    "pca = PCA(n_components=20)\n",
    "principalComponents = pca.fit_transform(z_data)\n",
    "principalComponents"
   ]
  },
  {
   "cell_type": "code",
   "execution_count": 80,
   "metadata": {},
   "outputs": [
    {
     "data": {
      "text/html": [
       "<div>\n",
       "<style scoped>\n",
       "    .dataframe tbody tr th:only-of-type {\n",
       "        vertical-align: middle;\n",
       "    }\n",
       "\n",
       "    .dataframe tbody tr th {\n",
       "        vertical-align: top;\n",
       "    }\n",
       "\n",
       "    .dataframe thead th {\n",
       "        text-align: right;\n",
       "    }\n",
       "</style>\n",
       "<table border=\"1\" class=\"dataframe\">\n",
       "  <thead>\n",
       "    <tr style=\"text-align: right;\">\n",
       "      <th></th>\n",
       "      <th>0</th>\n",
       "      <th>1</th>\n",
       "      <th>2</th>\n",
       "      <th>3</th>\n",
       "      <th>4</th>\n",
       "      <th>5</th>\n",
       "      <th>6</th>\n",
       "      <th>7</th>\n",
       "      <th>8</th>\n",
       "      <th>9</th>\n",
       "      <th>10</th>\n",
       "      <th>11</th>\n",
       "      <th>12</th>\n",
       "      <th>13</th>\n",
       "      <th>14</th>\n",
       "      <th>15</th>\n",
       "      <th>16</th>\n",
       "      <th>17</th>\n",
       "      <th>18</th>\n",
       "      <th>19</th>\n",
       "    </tr>\n",
       "  </thead>\n",
       "  <tbody>\n",
       "    <tr>\n",
       "      <th>0</th>\n",
       "      <td>-3.743386</td>\n",
       "      <td>0.671760</td>\n",
       "      <td>3.010733</td>\n",
       "      <td>1.770929</td>\n",
       "      <td>0.241249</td>\n",
       "      <td>-0.242313</td>\n",
       "      <td>0.428352</td>\n",
       "      <td>-0.220679</td>\n",
       "      <td>-0.395998</td>\n",
       "      <td>0.200790</td>\n",
       "      <td>0.633411</td>\n",
       "      <td>0.158783</td>\n",
       "      <td>-0.505090</td>\n",
       "      <td>-0.036181</td>\n",
       "      <td>-0.223467</td>\n",
       "      <td>0.720944</td>\n",
       "      <td>0.266148</td>\n",
       "      <td>-0.226966</td>\n",
       "      <td>-0.141101</td>\n",
       "      <td>-0.332153</td>\n",
       "    </tr>\n",
       "    <tr>\n",
       "      <th>1</th>\n",
       "      <td>-4.521007</td>\n",
       "      <td>-0.380771</td>\n",
       "      <td>1.658844</td>\n",
       "      <td>1.144624</td>\n",
       "      <td>0.975353</td>\n",
       "      <td>-0.981376</td>\n",
       "      <td>-0.320455</td>\n",
       "      <td>0.221060</td>\n",
       "      <td>0.420852</td>\n",
       "      <td>-1.139054</td>\n",
       "      <td>1.067222</td>\n",
       "      <td>0.578253</td>\n",
       "      <td>-0.579870</td>\n",
       "      <td>-0.057677</td>\n",
       "      <td>-0.798628</td>\n",
       "      <td>1.217910</td>\n",
       "      <td>0.997346</td>\n",
       "      <td>-0.447006</td>\n",
       "      <td>0.394843</td>\n",
       "      <td>-0.003290</td>\n",
       "    </tr>\n",
       "    <tr>\n",
       "      <th>2</th>\n",
       "      <td>-3.565665</td>\n",
       "      <td>0.731439</td>\n",
       "      <td>3.102370</td>\n",
       "      <td>1.875407</td>\n",
       "      <td>0.290381</td>\n",
       "      <td>-0.247928</td>\n",
       "      <td>0.468570</td>\n",
       "      <td>0.007896</td>\n",
       "      <td>-0.505633</td>\n",
       "      <td>0.162416</td>\n",
       "      <td>0.738795</td>\n",
       "      <td>0.150660</td>\n",
       "      <td>-0.551090</td>\n",
       "      <td>-0.037668</td>\n",
       "      <td>-0.253861</td>\n",
       "      <td>0.755675</td>\n",
       "      <td>0.309601</td>\n",
       "      <td>-0.141106</td>\n",
       "      <td>-0.120325</td>\n",
       "      <td>-0.351925</td>\n",
       "    </tr>\n",
       "    <tr>\n",
       "      <th>3</th>\n",
       "      <td>-3.659504</td>\n",
       "      <td>0.698511</td>\n",
       "      <td>3.052878</td>\n",
       "      <td>1.821137</td>\n",
       "      <td>0.265167</td>\n",
       "      <td>-0.246088</td>\n",
       "      <td>0.446728</td>\n",
       "      <td>-0.110198</td>\n",
       "      <td>-0.449642</td>\n",
       "      <td>0.180939</td>\n",
       "      <td>0.685178</td>\n",
       "      <td>0.155098</td>\n",
       "      <td>-0.527250</td>\n",
       "      <td>-0.036778</td>\n",
       "      <td>-0.238122</td>\n",
       "      <td>0.738462</td>\n",
       "      <td>0.286243</td>\n",
       "      <td>-0.185587</td>\n",
       "      <td>-0.131760</td>\n",
       "      <td>-0.341257</td>\n",
       "    </tr>\n",
       "    <tr>\n",
       "      <th>4</th>\n",
       "      <td>-3.889817</td>\n",
       "      <td>0.631144</td>\n",
       "      <td>2.942587</td>\n",
       "      <td>1.679454</td>\n",
       "      <td>0.195817</td>\n",
       "      <td>-0.230389</td>\n",
       "      <td>0.399022</td>\n",
       "      <td>-0.425539</td>\n",
       "      <td>-0.293523</td>\n",
       "      <td>0.242891</td>\n",
       "      <td>0.534095</td>\n",
       "      <td>0.164538</td>\n",
       "      <td>-0.464551</td>\n",
       "      <td>-0.035702</td>\n",
       "      <td>-0.196982</td>\n",
       "      <td>0.685442</td>\n",
       "      <td>0.232476</td>\n",
       "      <td>-0.302440</td>\n",
       "      <td>-0.155738</td>\n",
       "      <td>-0.316710</td>\n",
       "    </tr>\n",
       "  </tbody>\n",
       "</table>\n",
       "</div>"
      ],
      "text/plain": [
       "         0         1         2         3         4         5         6   \\\n",
       "0 -3.743386  0.671760  3.010733  1.770929  0.241249 -0.242313  0.428352   \n",
       "1 -4.521007 -0.380771  1.658844  1.144624  0.975353 -0.981376 -0.320455   \n",
       "2 -3.565665  0.731439  3.102370  1.875407  0.290381 -0.247928  0.468570   \n",
       "3 -3.659504  0.698511  3.052878  1.821137  0.265167 -0.246088  0.446728   \n",
       "4 -3.889817  0.631144  2.942587  1.679454  0.195817 -0.230389  0.399022   \n",
       "\n",
       "         7         8         9         10        11        12        13  \\\n",
       "0 -0.220679 -0.395998  0.200790  0.633411  0.158783 -0.505090 -0.036181   \n",
       "1  0.221060  0.420852 -1.139054  1.067222  0.578253 -0.579870 -0.057677   \n",
       "2  0.007896 -0.505633  0.162416  0.738795  0.150660 -0.551090 -0.037668   \n",
       "3 -0.110198 -0.449642  0.180939  0.685178  0.155098 -0.527250 -0.036778   \n",
       "4 -0.425539 -0.293523  0.242891  0.534095  0.164538 -0.464551 -0.035702   \n",
       "\n",
       "         14        15        16        17        18        19  \n",
       "0 -0.223467  0.720944  0.266148 -0.226966 -0.141101 -0.332153  \n",
       "1 -0.798628  1.217910  0.997346 -0.447006  0.394843 -0.003290  \n",
       "2 -0.253861  0.755675  0.309601 -0.141106 -0.120325 -0.351925  \n",
       "3 -0.238122  0.738462  0.286243 -0.185587 -0.131760 -0.341257  \n",
       "4 -0.196982  0.685442  0.232476 -0.302440 -0.155738 -0.316710  "
      ]
     },
     "execution_count": 80,
     "metadata": {},
     "output_type": "execute_result"
    }
   ],
   "source": [
    "principalDf = pd.DataFrame(data = principalComponents)\n",
    "principalDf.head()\n"
   ]
  },
  {
   "cell_type": "code",
   "execution_count": 107,
   "metadata": {},
   "outputs": [
    {
     "data": {
      "text/plain": [
       "array([24.43166667, 26.5       , 28.16666667, ...,  1.98      ,\n",
       "        1.84      , 12.1       ])"
      ]
     },
     "execution_count": 107,
     "metadata": {},
     "output_type": "execute_result"
    }
   ],
   "source": [
    "DTClassifier= DecisionTreeRegressor (max_depth=50, min_samples_split =2)\n",
    "DTClassifier.fit(principalDf,df_y)\n",
    "predicted_labels = DTClassifier.predict(principalDf)\n",
    "predicted_labels "
   ]
  },
  {
   "cell_type": "code",
   "execution_count": 108,
   "metadata": {},
   "outputs": [
    {
     "data": {
      "text/plain": [
       "18.514249538204826"
      ]
     },
     "execution_count": 108,
     "metadata": {},
     "output_type": "execute_result"
    }
   ],
   "source": [
    "from sklearn.metrics import mean_squared_error\n",
    "mean_squared_error(df_y,predicted_labels)"
   ]
  },
  {
   "cell_type": "code",
   "execution_count": 113,
   "metadata": {},
   "outputs": [],
   "source": [
    "#train test using pca\n"
   ]
  },
  {
   "cell_type": "code",
   "execution_count": 129,
   "metadata": {},
   "outputs": [],
   "source": [
    "finalDf = pd.concat([principalDf,df[\"critical_temp\"]],axis=1)\n"
   ]
  },
  {
   "cell_type": "code",
   "execution_count": 130,
   "metadata": {},
   "outputs": [
    {
     "data": {
      "text/html": [
       "<div>\n",
       "<style scoped>\n",
       "    .dataframe tbody tr th:only-of-type {\n",
       "        vertical-align: middle;\n",
       "    }\n",
       "\n",
       "    .dataframe tbody tr th {\n",
       "        vertical-align: top;\n",
       "    }\n",
       "\n",
       "    .dataframe thead th {\n",
       "        text-align: right;\n",
       "    }\n",
       "</style>\n",
       "<table border=\"1\" class=\"dataframe\">\n",
       "  <thead>\n",
       "    <tr style=\"text-align: right;\">\n",
       "      <th></th>\n",
       "      <th>0</th>\n",
       "      <th>1</th>\n",
       "      <th>2</th>\n",
       "      <th>3</th>\n",
       "      <th>4</th>\n",
       "      <th>5</th>\n",
       "      <th>6</th>\n",
       "      <th>7</th>\n",
       "      <th>8</th>\n",
       "      <th>9</th>\n",
       "      <th>...</th>\n",
       "      <th>11</th>\n",
       "      <th>12</th>\n",
       "      <th>13</th>\n",
       "      <th>14</th>\n",
       "      <th>15</th>\n",
       "      <th>16</th>\n",
       "      <th>17</th>\n",
       "      <th>18</th>\n",
       "      <th>19</th>\n",
       "      <th>critical_temp</th>\n",
       "    </tr>\n",
       "  </thead>\n",
       "  <tbody>\n",
       "    <tr>\n",
       "      <th>0</th>\n",
       "      <td>-3.743386</td>\n",
       "      <td>0.671760</td>\n",
       "      <td>3.010733</td>\n",
       "      <td>1.770929</td>\n",
       "      <td>0.241249</td>\n",
       "      <td>-0.242313</td>\n",
       "      <td>0.428352</td>\n",
       "      <td>-0.220679</td>\n",
       "      <td>-0.395998</td>\n",
       "      <td>0.200790</td>\n",
       "      <td>...</td>\n",
       "      <td>0.158783</td>\n",
       "      <td>-0.505090</td>\n",
       "      <td>-0.036181</td>\n",
       "      <td>-0.223467</td>\n",
       "      <td>0.720944</td>\n",
       "      <td>0.266148</td>\n",
       "      <td>-0.226966</td>\n",
       "      <td>-0.141101</td>\n",
       "      <td>-0.332153</td>\n",
       "      <td>29.0</td>\n",
       "    </tr>\n",
       "    <tr>\n",
       "      <th>1</th>\n",
       "      <td>-4.521007</td>\n",
       "      <td>-0.380771</td>\n",
       "      <td>1.658844</td>\n",
       "      <td>1.144624</td>\n",
       "      <td>0.975353</td>\n",
       "      <td>-0.981376</td>\n",
       "      <td>-0.320455</td>\n",
       "      <td>0.221060</td>\n",
       "      <td>0.420852</td>\n",
       "      <td>-1.139054</td>\n",
       "      <td>...</td>\n",
       "      <td>0.578253</td>\n",
       "      <td>-0.579870</td>\n",
       "      <td>-0.057677</td>\n",
       "      <td>-0.798628</td>\n",
       "      <td>1.217910</td>\n",
       "      <td>0.997346</td>\n",
       "      <td>-0.447006</td>\n",
       "      <td>0.394843</td>\n",
       "      <td>-0.003290</td>\n",
       "      <td>26.0</td>\n",
       "    </tr>\n",
       "    <tr>\n",
       "      <th>2</th>\n",
       "      <td>-3.565665</td>\n",
       "      <td>0.731439</td>\n",
       "      <td>3.102370</td>\n",
       "      <td>1.875407</td>\n",
       "      <td>0.290381</td>\n",
       "      <td>-0.247928</td>\n",
       "      <td>0.468570</td>\n",
       "      <td>0.007896</td>\n",
       "      <td>-0.505633</td>\n",
       "      <td>0.162416</td>\n",
       "      <td>...</td>\n",
       "      <td>0.150660</td>\n",
       "      <td>-0.551090</td>\n",
       "      <td>-0.037668</td>\n",
       "      <td>-0.253861</td>\n",
       "      <td>0.755675</td>\n",
       "      <td>0.309601</td>\n",
       "      <td>-0.141106</td>\n",
       "      <td>-0.120325</td>\n",
       "      <td>-0.351925</td>\n",
       "      <td>19.0</td>\n",
       "    </tr>\n",
       "    <tr>\n",
       "      <th>3</th>\n",
       "      <td>-3.659504</td>\n",
       "      <td>0.698511</td>\n",
       "      <td>3.052878</td>\n",
       "      <td>1.821137</td>\n",
       "      <td>0.265167</td>\n",
       "      <td>-0.246088</td>\n",
       "      <td>0.446728</td>\n",
       "      <td>-0.110198</td>\n",
       "      <td>-0.449642</td>\n",
       "      <td>0.180939</td>\n",
       "      <td>...</td>\n",
       "      <td>0.155098</td>\n",
       "      <td>-0.527250</td>\n",
       "      <td>-0.036778</td>\n",
       "      <td>-0.238122</td>\n",
       "      <td>0.738462</td>\n",
       "      <td>0.286243</td>\n",
       "      <td>-0.185587</td>\n",
       "      <td>-0.131760</td>\n",
       "      <td>-0.341257</td>\n",
       "      <td>22.0</td>\n",
       "    </tr>\n",
       "    <tr>\n",
       "      <th>4</th>\n",
       "      <td>-3.889817</td>\n",
       "      <td>0.631144</td>\n",
       "      <td>2.942587</td>\n",
       "      <td>1.679454</td>\n",
       "      <td>0.195817</td>\n",
       "      <td>-0.230389</td>\n",
       "      <td>0.399022</td>\n",
       "      <td>-0.425539</td>\n",
       "      <td>-0.293523</td>\n",
       "      <td>0.242891</td>\n",
       "      <td>...</td>\n",
       "      <td>0.164538</td>\n",
       "      <td>-0.464551</td>\n",
       "      <td>-0.035702</td>\n",
       "      <td>-0.196982</td>\n",
       "      <td>0.685442</td>\n",
       "      <td>0.232476</td>\n",
       "      <td>-0.302440</td>\n",
       "      <td>-0.155738</td>\n",
       "      <td>-0.316710</td>\n",
       "      <td>23.0</td>\n",
       "    </tr>\n",
       "  </tbody>\n",
       "</table>\n",
       "<p>5 rows × 21 columns</p>\n",
       "</div>"
      ],
      "text/plain": [
       "          0         1         2         3         4         5         6  \\\n",
       "0 -3.743386  0.671760  3.010733  1.770929  0.241249 -0.242313  0.428352   \n",
       "1 -4.521007 -0.380771  1.658844  1.144624  0.975353 -0.981376 -0.320455   \n",
       "2 -3.565665  0.731439  3.102370  1.875407  0.290381 -0.247928  0.468570   \n",
       "3 -3.659504  0.698511  3.052878  1.821137  0.265167 -0.246088  0.446728   \n",
       "4 -3.889817  0.631144  2.942587  1.679454  0.195817 -0.230389  0.399022   \n",
       "\n",
       "          7         8         9      ...              11        12        13  \\\n",
       "0 -0.220679 -0.395998  0.200790      ...        0.158783 -0.505090 -0.036181   \n",
       "1  0.221060  0.420852 -1.139054      ...        0.578253 -0.579870 -0.057677   \n",
       "2  0.007896 -0.505633  0.162416      ...        0.150660 -0.551090 -0.037668   \n",
       "3 -0.110198 -0.449642  0.180939      ...        0.155098 -0.527250 -0.036778   \n",
       "4 -0.425539 -0.293523  0.242891      ...        0.164538 -0.464551 -0.035702   \n",
       "\n",
       "         14        15        16        17        18        19  critical_temp  \n",
       "0 -0.223467  0.720944  0.266148 -0.226966 -0.141101 -0.332153           29.0  \n",
       "1 -0.798628  1.217910  0.997346 -0.447006  0.394843 -0.003290           26.0  \n",
       "2 -0.253861  0.755675  0.309601 -0.141106 -0.120325 -0.351925           19.0  \n",
       "3 -0.238122  0.738462  0.286243 -0.185587 -0.131760 -0.341257           22.0  \n",
       "4 -0.196982  0.685442  0.232476 -0.302440 -0.155738 -0.316710           23.0  \n",
       "\n",
       "[5 rows x 21 columns]"
      ]
     },
     "execution_count": 130,
     "metadata": {},
     "output_type": "execute_result"
    }
   ],
   "source": [
    "finalDf.head()"
   ]
  },
  {
   "cell_type": "code",
   "execution_count": 141,
   "metadata": {},
   "outputs": [],
   "source": [
    "features1=finalDf.iloc[:,0:20]\n",
    "\n",
    "\n",
    "label1 = np.array(finalDf[\"critical_temp\"])"
   ]
  },
  {
   "cell_type": "code",
   "execution_count": 167,
   "metadata": {},
   "outputs": [],
   "source": [
    "from sklearn.model_selection import train_test_split\n",
    "\n",
    "X_train1, X_test1, y_train1, y_test1 = train_test_split(features1,label1, test_size=0.2, random_state=1)"
   ]
  },
  {
   "cell_type": "code",
   "execution_count": 153,
   "metadata": {},
   "outputs": [
    {
     "data": {
      "text/plain": [
       "(17010, 20)"
      ]
     },
     "execution_count": 153,
     "metadata": {},
     "output_type": "execute_result"
    }
   ],
   "source": [
    "\n",
    "X_train1.shape"
   ]
  },
  {
   "cell_type": "code",
   "execution_count": 154,
   "metadata": {},
   "outputs": [
    {
     "data": {
      "text/plain": [
       "(4253, 20)"
      ]
     },
     "execution_count": 154,
     "metadata": {},
     "output_type": "execute_result"
    }
   ],
   "source": [
    " X_test1.shape"
   ]
  },
  {
   "cell_type": "code",
   "execution_count": 157,
   "metadata": {},
   "outputs": [
    {
     "data": {
      "text/plain": [
       "(17010,)"
      ]
     },
     "execution_count": 157,
     "metadata": {},
     "output_type": "execute_result"
    }
   ],
   "source": [
    "y_train1.shape"
   ]
  },
  {
   "cell_type": "code",
   "execution_count": 156,
   "metadata": {},
   "outputs": [
    {
     "data": {
      "text/plain": [
       "(4253,)"
      ]
     },
     "execution_count": 156,
     "metadata": {},
     "output_type": "execute_result"
    }
   ],
   "source": [
    "y_test1.shape"
   ]
  },
  {
   "cell_type": "code",
   "execution_count": 183,
   "metadata": {},
   "outputs": [],
   "source": [
    "DTClassifier= DecisionTreeRegressor (max_depth=50, min_samples_split =3,min_samples_leaf=5)\n",
    "DTClassifier.fit(X_train1,y_train1)\n",
    "predicted_labels = DTClassifier.predict(X_test1)\n"
   ]
  },
  {
   "cell_type": "code",
   "execution_count": 184,
   "metadata": {},
   "outputs": [
    {
     "data": {
      "text/plain": [
       "146.1665092642994"
      ]
     },
     "execution_count": 184,
     "metadata": {},
     "output_type": "execute_result"
    }
   ],
   "source": [
    "from sklearn.metrics import mean_squared_error\n",
    "mean_squared_error(y_test1,predicted_labels)"
   ]
  },
  {
   "cell_type": "code",
   "execution_count": null,
   "metadata": {},
   "outputs": [],
   "source": []
  },
  {
   "cell_type": "code",
   "execution_count": null,
   "metadata": {},
   "outputs": [],
   "source": []
  }
 ],
 "metadata": {
  "kernelspec": {
   "display_name": "Python 3",
   "language": "python",
   "name": "python3"
  },
  "language_info": {
   "codemirror_mode": {
    "name": "ipython",
    "version": 3
   },
   "file_extension": ".py",
   "mimetype": "text/x-python",
   "name": "python",
   "nbconvert_exporter": "python",
   "pygments_lexer": "ipython3",
   "version": "3.7.0"
  }
 },
 "nbformat": 4,
 "nbformat_minor": 2
}
